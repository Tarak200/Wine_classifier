{
  "nbformat": 4,
  "nbformat_minor": 0,
  "metadata": {
    "colab": {
      "name": "wine_ classifier.ipynb",
      "provenance": []
    },
    "kernelspec": {
      "name": "python3",
      "display_name": "Python 3"
    },
    "language_info": {
      "name": "python"
    }
  },
  "cells": [
    {
      "cell_type": "code",
      "execution_count": 19,
      "metadata": {
        "id": "FBv2IR35K8jA"
      },
      "outputs": [],
      "source": [
        "import numpy as np\n",
        "import pandas as pd\n",
        "from sklearn.linear_model import Lasso\n",
        "from sklearn.model_selection import train_test_split, GridSearchCV\n",
        "from sklearn.decomposition import PCA\n",
        "from sklearn.preprocessing import StandardScaler\n",
        "from sklearn.pipeline import Pipeline\n",
        "from sklearn.metrics import classification_report"
      ]
    },
    {
      "cell_type": "code",
      "source": [
        "#reading data from wine.csv file\n",
        "data = pd.read_csv(r\"Wine.csv\")\n",
        "X = data.iloc[:,0:13]\n",
        "y = data.iloc[:,13]"
      ],
      "metadata": {
        "id": "zGmgZd6sM3NA"
      },
      "execution_count": 20,
      "outputs": []
    },
    {
      "cell_type": "code",
      "source": [
        "#feature selection using Lasso\n",
        "pipeline = Pipeline([ ('scaler', StandardScaler()), ('model', Lasso()) ])\n",
        "search = GridSearchCV(pipeline, {'model__alpha':np.arange(0.1,10,0.1)}, scoring='neg_mean_squared_error', cv=5)\n",
        "search.fit(X,y)\n",
        "search.best_params_\n",
        "coefficients = search.best_estimator_.named_steps['model'].coef_\n",
        "importance = np.abs(coefficients)\n",
        "features = X.columns\n",
        "selected_features = features[importance>0]\n",
        "dropped_features = features[importance==0]\n",
        "X_final = X.drop(dropped_features, axis = 'columns')\n"
      ],
      "metadata": {
        "id": "7rn0q9DBOWrD"
      },
      "execution_count": 71,
      "outputs": []
    },
    {
      "cell_type": "code",
      "source": [
        "# forming 2 classifiers\n",
        "\n",
        "from sklearn.ensemble import VotingClassifier\n",
        "from sklearn.tree import DecisionTreeClassifier\n",
        "\n",
        "#forming VotingClassifier using Logistic regression, Naive bayes and RandomForest\n",
        "\n",
        "from sklearn.linear_model import LogisticRegression\n",
        "from sklearn.ensemble import RandomForestClassifier\n",
        "from sklearn.naive_bayes import GaussianNB\n",
        "from sklearn.svm import SVC\n",
        "\n",
        "estimator = []\n",
        "estimator.append(('LR', LogisticRegression(solver='lbfgs', random_state=42, multi_class='multinomial', verbose=3)))\n",
        "estimator.append((\"Naive_Bayes\", GaussianNB()))\n",
        "estimator.append(('RFC', RandomForestClassifier(max_depth=500, criterion ='gini', n_estimators =100, random_state=42 )))\n",
        "estimator.append(('SVC', SVC(probability=True )))\n",
        "\n",
        "V_classifier = VotingClassifier(estimators =estimator, voting='hard')\n",
        "\n",
        "#forming DecisionTreeClassifier\n",
        "\n",
        "DT_classifier  = DecisionTreeClassifier(splitter='best', criterion='gini')\n"
      ],
      "metadata": {
        "id": "gnXRYAqAYeBZ"
      },
      "execution_count": 89,
      "outputs": []
    },
    {
      "cell_type": "code",
      "source": [
        "#excluding bias from data using NearMiss\n",
        "from imblearn.under_sampling import NearMiss\n",
        "NM = NearMiss()\n",
        "X_final, y_final = NM.fit_resample(X_train, y_train.ravel())\n",
        "print(X_final) \n",
        "\n",
        "#splitting training and testing data\n",
        "X_train, X_test, y_train,y_test = train_test_split(X_final, y_final, test_size=0.2, random_state=42)\n"
      ],
      "metadata": {
        "colab": {
          "base_uri": "https://localhost:8080/"
        },
        "id": "GpHYgqnqUech",
        "outputId": "1cdbfcb7-8ab4-4a7d-fb71-9c11a436ef54"
      },
      "execution_count": 83,
      "outputs": [
        {
          "output_type": "stream",
          "name": "stdout",
          "text": [
            "    Ash_Alcanity  Flavanoids   Hue  OD280  Proline\n",
            "0           15.5        2.64  1.18   2.69     1020\n",
            "1           17.2        2.69  1.23   2.87      990\n",
            "2           25.0        2.68  1.13   3.20      830\n",
            "3           16.0        3.17  1.04   3.44     1065\n",
            "4           19.4        2.97  1.25   3.40      915\n",
            "..           ...         ...   ...    ...      ...\n",
            "61          21.5        1.39  0.57   1.33      550\n",
            "62          21.0        0.92  0.56   1.58      520\n",
            "63          22.5        0.47  0.78   1.75      520\n",
            "64          23.5        0.52  0.89   2.06      520\n",
            "65          25.0        0.60  0.82   1.69      515\n",
            "\n",
            "[66 rows x 5 columns]\n"
          ]
        }
      ]
    },
    {
      "cell_type": "code",
      "source": [
        "#Principle Component Analysis feature reduction\n",
        "pca = PCA(n_components=2)\n",
        "X_train_final = pca.fit_transform(X_train)\n",
        "X_test_final = pca.transform(X_test)\n",
        "print(X_train_final)\n",
        "explained_variance = pca.explained_variance_ratio_\n"
      ],
      "metadata": {
        "colab": {
          "base_uri": "https://localhost:8080/"
        },
        "id": "OUN3iP6kSRwJ",
        "outputId": "206c573c-c833-4f1f-d95f-ca80f1dbda77"
      },
      "execution_count": 84,
      "outputs": [
        {
          "output_type": "stream",
          "name": "stdout",
          "text": [
            "[[-2.29292119e+02  1.08358434e+01]\n",
            " [-3.53548359e+01  1.08111826e+00]\n",
            " [ 3.15656735e+02  1.17611765e+00]\n",
            " [ 4.00689846e+02  5.11610099e+00]\n",
            " [-2.84413132e+02 -6.81904792e+00]\n",
            " [ 2.95671517e+02  3.34048013e+00]\n",
            " [ 3.55636388e+02 -1.08770403e+00]\n",
            " [-8.93477096e+01  1.74786488e+00]\n",
            " [ 1.65635118e+02 -1.06653315e+00]\n",
            " [-5.43936829e+01 -2.89910038e+00]\n",
            " [-2.54366543e+02  8.98343345e-01]\n",
            " [ 4.40669176e+02  2.20219501e+00]\n",
            " [-1.49378351e+02 -6.86094489e-01]\n",
            " [-1.89396538e+02 -2.87789448e+00]\n",
            " [-1.69363435e+02  1.48640198e+00]\n",
            " [-7.43585582e+01  1.74744311e+00]\n",
            " [-1.42362714e+02  7.23787277e-01]\n",
            " [-9.37659089e+00 -7.38279214e-01]\n",
            " [-2.29391796e+02 -2.05535592e+00]\n",
            " [ 5.35644132e+02 -1.21422600e+00]\n",
            " [-6.93783283e+01 -1.42465951e+00]\n",
            " [-3.93458970e+01  2.42774065e+00]\n",
            " [ 1.20620973e+02 -1.63968036e+00]\n",
            " [-5.43595981e+01  1.60393120e+00]\n",
            " [ 3.15660224e+02  1.57490139e+00]\n",
            " [-1.69378059e+02 -1.06700989e+00]\n",
            " [-1.99376048e+02 -3.16749259e-01]\n",
            " [-2.93808205e+01 -1.07334919e+00]\n",
            " [-2.54381747e+02 -1.20352453e+00]\n",
            " [-1.19348787e+02  2.55614395e+00]\n",
            " [-2.99335605e+02  5.14440274e+00]\n",
            " [-6.93705513e+01  2.25112601e-01]\n",
            " [ 2.40647924e+02  5.75835211e-01]\n",
            " [ 3.10633517e+02 -1.56604973e+00]\n",
            " [ 8.05936075e+01 -6.00312493e+00]\n",
            " [-1.09369587e+02  5.24757385e-01]\n",
            " [-2.77389126e+02 -2.24468675e+00]\n",
            " [-2.34380913e+02 -1.05881595e+00]\n",
            " [-9.93809398e+01 -1.05799427e+00]\n",
            " [ 1.36620917e+02 -2.41499747e+00]\n",
            " [-1.29386413e+02 -1.84262803e+00]\n",
            " [ 1.35654662e+02  1.55219395e+00]\n",
            " [ 6.52498942e-01  2.66135293e+00]\n",
            " [ 2.06449260e+01  8.52647879e-01]\n",
            " [-1.59397766e+02 -3.09188306e+00]\n",
            " [-2.61378864e+02 -8.63086843e-01]\n",
            " [ 3.80622890e+02 -3.31302619e+00]\n",
            " [-1.99364971e+02  1.20279191e+00]\n",
            " [ 5.10639622e+02 -1.71642798e+00]\n",
            " [-2.99341001e+02  3.91403038e+00]\n",
            " [ 3.10652658e+02  8.24982940e-01]\n",
            " [-8.94063047e+01 -4.65459166e+00]]\n"
          ]
        }
      ]
    },
    {
      "cell_type": "code",
      "source": [
        "#training and predicting using Voting_Classifier\n",
        "V_classifier.fit(X_train_final, y_train)\n",
        "y_VC_predict = V_classifier.predict(X_test_final)\n",
        "VC_results = classification_report(y_VC_predict, y_test)\n",
        "print(VC_results)\n"
      ],
      "metadata": {
        "colab": {
          "base_uri": "https://localhost:8080/"
        },
        "id": "1tnlqDq3gXup",
        "outputId": "75aed81b-57d0-4b9b-831c-1541f2b2dde8"
      },
      "execution_count": 90,
      "outputs": [
        {
          "output_type": "stream",
          "name": "stdout",
          "text": [
            "              precision    recall  f1-score   support\n",
            "\n",
            "           1       0.67      1.00      0.80         4\n",
            "           2       0.67      0.25      0.36         8\n",
            "           3       0.20      0.50      0.29         2\n",
            "\n",
            "    accuracy                           0.50        14\n",
            "   macro avg       0.51      0.58      0.48        14\n",
            "weighted avg       0.60      0.50      0.48        14\n",
            "\n"
          ]
        },
        {
          "output_type": "stream",
          "name": "stderr",
          "text": [
            "[Parallel(n_jobs=1)]: Using backend SequentialBackend with 1 concurrent workers.\n",
            "[Parallel(n_jobs=1)]: Done   1 out of   1 | elapsed:    0.0s remaining:    0.0s\n",
            "[Parallel(n_jobs=1)]: Done   1 out of   1 | elapsed:    0.0s finished\n"
          ]
        }
      ]
    },
    {
      "cell_type": "code",
      "source": [
        "#training and predicting using DecisionTreeClassifier\n",
        "DT_classifier.fit(X_train_final, y_train)\n",
        "y_DT_predict = DT_classifier.predict(X_test_final)\n",
        "DT_results = classification_report(y_DT_predict, y_test)\n",
        "print(DT_results)\n",
        "\n"
      ],
      "metadata": {
        "colab": {
          "base_uri": "https://localhost:8080/"
        },
        "id": "9uE4RtNMhNkl",
        "outputId": "d4671f97-593c-4c60-d666-a0366e776ba9"
      },
      "execution_count": 91,
      "outputs": [
        {
          "output_type": "stream",
          "name": "stdout",
          "text": [
            "              precision    recall  f1-score   support\n",
            "\n",
            "           1       1.00      1.00      1.00         6\n",
            "           2       0.33      0.33      0.33         3\n",
            "           3       0.60      0.60      0.60         5\n",
            "\n",
            "    accuracy                           0.71        14\n",
            "   macro avg       0.64      0.64      0.64        14\n",
            "weighted avg       0.71      0.71      0.71        14\n",
            "\n"
          ]
        }
      ]
    },
    {
      "cell_type": "code",
      "source": [
        "#checking the relation between predictions of voting classifier and DecisiontreeClassifier\n",
        "from sklearn.metrics import accuracy_score\n",
        "accuracy_VC_DT = accuracy_score(y_DT_predict,y_VC_predict)\n",
        "print(accuracy_VC_DT)"
      ],
      "metadata": {
        "colab": {
          "base_uri": "https://localhost:8080/"
        },
        "id": "9OpoLM0ghp5X",
        "outputId": "99535c0f-de8c-4c06-aea5-afc2d6d5b305"
      },
      "execution_count": 94,
      "outputs": [
        {
          "output_type": "stream",
          "name": "stdout",
          "text": [
            "0.6428571428571429\n"
          ]
        }
      ]
    },
    {
      "cell_type": "code",
      "source": [
        "import matplotlib.pyplot as plt\n",
        "plt.plot(y_DT_predict,y_VC_predict,color='blue')\n",
        "plt.title(\"relation between classifiers\")\n",
        "plt.xlabel(\"y_DT_predict\")\n",
        "plt.ylabel(\"y_VC_predict\")\n",
        "plt.show()\n"
      ],
      "metadata": {
        "colab": {
          "base_uri": "https://localhost:8080/",
          "height": 296
        },
        "id": "_Xrf9Z4XiIo8",
        "outputId": "4969a6f2-dd37-4df7-b888-14fe83532a8d"
      },
      "execution_count": 98,
      "outputs": [
        {
          "output_type": "display_data",
          "data": {
            "text/plain": [
              "<Figure size 432x288 with 1 Axes>"
            ],
            "image/png": "[encoded data removed]"
          },
          "metadata": {
            "needs_background": "light"
          }
        }
      ]
    }
  ]
}